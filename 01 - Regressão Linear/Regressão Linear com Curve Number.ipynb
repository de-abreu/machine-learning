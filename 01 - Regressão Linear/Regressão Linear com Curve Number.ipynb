{
 "cells": [
  {
   "cell_type": "markdown",
   "id": "159fe285-3c8c-4961-87e9-d92aaa1aa21b",
   "metadata": {},
   "source": [
    "# Regressão múltipla com curve number\n",
    "\n",
    "Cotiuando da análise anterior, aqui nós substituímos as variáveis associadas ao uso da terra com o `curve number`"
   ]
  },
  {
   "cell_type": "markdown",
   "id": "16c75bd9-490b-474b-bf7d-60aa7beb3b6d",
   "metadata": {},
   "source": [
    "## Autores\n",
    "\n",
    "| Nome | nUSP |\n",
    "| :--- | :--- |\n",
    "| Débora da Silva Morais     | 15615790 |\n",
    "| Guilherme de Abreu Barreto | 12543033 |"
   ]
  },
  {
   "cell_type": "markdown",
   "id": "2135255e-2853-4248-86a5-41fa38405402",
   "metadata": {},
   "source": [
    "## Dependências"
   ]
  },
  {
   "cell_type": "code",
   "execution_count": 1,
   "id": "5cef277d-d3d3-4b01-9eeb-e58f076b3536",
   "metadata": {},
   "outputs": [],
   "source": [
    "import numpy as np\n",
    "import pandas as pd\n",
    "import statsmodels.api as sm\n",
    "import matplotlib.pyplot as plt\n",
    "from statsmodels.regression.linear_model import RegressionResults\n",
    "from typing import Any, Callable\n",
    "from matplotlib.axes import Axes\n",
    "from functools import partial\n",
    "from sklearn.model_selection import RepeatedStratifiedKFold as RSKF\n",
    "from sklearn.metrics import r2_score, mean_squared_error as MSE"
   ]
  },
  {
   "cell_type": "markdown",
   "id": "ff957b36-5347-4ebd-82ea-0b90a2770ab2",
   "metadata": {},
   "source": [
    "## Dataset\n",
    "\n",
    "Especificamos o arquivo onde estão contidos os dados. Trata-se de um arquivo `.csv` gerado com a ferramenta LibreOffice Calc à partir do arquivo `.xlsx` citado na [referência](https://bmpdatabase.org/national-stormwater-quality-database) dos autores, conforme as seguintes especificações."
   ]
  },
  {
   "cell_type": "code",
   "execution_count": 2,
   "id": "3e1e60bd-e5a1-45a8-87fc-6c4148abd7d2",
   "metadata": {},
   "outputs": [],
   "source": [
    "dataset = {\n",
    "    'filepath_or_buffer': '../NSQD_v4.02_2015.csv',\n",
    "    'sep': '|',\n",
    "    'encoding': 'latin-1',\n",
    "}"
   ]
  },
  {
   "cell_type": "markdown",
   "id": "27a05fb4-fabd-43a2-977f-8438bc5d5dca",
   "metadata": {},
   "source": [
    "## Seleção dos parâmetros\n",
    "\n",
    "Objetivamos estimar o valor da concentração total de sólidos suspensos em miligramas por litro (TSS mg/L) na água da chuva captada pelos sistemas de drenagem de diferentes centros urbanos nos Estados Unidos. O dataset fornecido contém uma diversidade de dados hidrológicos dos quais apenas uma parte são relevantes para esta análise. Conforme os autores, estes são:\n",
    "\n",
    "### Fatores hidrológicos\n",
    "\n",
    "- **Nível da chuva:** Um dos principais fatores determinantes. Chuvas mais intensas tipicamente produzem maior escoamento e possuem maior energia para desprender e transportar sedimentos.\n",
    "\n",
    "- **Nível do escoamento:** Os sólidos suspensos são carregados pelo escoamento. O nível do escoamento combinado a área de drenagem nos permite calcular o volume do escoamento, que é um indicativo da energia disponível para carregar os sólidos\n",
    "\n",
    "- **Dias desde a última chuva:** Maiores intervalos entre chuvas permitem maior acúmulo de detritos e sedimentos passiveis de serem desprendidos na chuva seguinte.\n",
    "\n",
    "\n",
    "### Fatores de drenagem\n",
    "\n",
    "- **Área de Drenagem**\n",
    " \n",
    "- **Ipermeabilidade do solo:** superfícies ipermeáveis são importantes contribuintes para o TSS: estes não absorvem poluentes e são um conduto pelos quais poluentes podem ser carregados ao sistema de drenagem.\n",
    "\n",
    "### Uso da terra\n",
    "\n",
    "- **Curve number:** Um parÂmetro empirico usado na hirologia para prever o escoamento ou infiltração do excesso de água da chuva, dadas características do terreno.\n",
    "\n",
    "### Contexto\n",
    "\n",
    "- **Zona de chuva EPA:** Classificação numérica que agrupa regiões geograficas dos Estados Unidos de acordo com o comportamento da chuva.\n",
    "\n",
    "- **Estação:** a estação climática do ano. Frequentemente esta produz alterações nos comportamentos das chuvas."
   ]
  },
  {
   "cell_type": "code",
   "execution_count": 3,
   "id": "a6241eca-8afb-46db-9217-54f61f6c5b5a",
   "metadata": {},
   "outputs": [],
   "source": [
    "columns = [\n",
    "    # Hydrological factors\n",
    "    'Precipitation_Depth_(in)',\n",
    "    'Runoff_(in)',\n",
    "    'Days since last rain',\n",
    "\n",
    "    # Drainage factors\n",
    "    'Drainage_Area_Acres',\n",
    "    'Percent_Impervious',\n",
    "\n",
    "    # Land use\n",
    "    'Calculated_Curve_Number',\n",
    "\n",
    "    # Target\n",
    "    'TSS (mg/L)',\n",
    "\n",
    "    # Context\n",
    "    'EPA_Rain_Zone',\n",
    "    'Main_Type_Conveyance',\n",
    "    'Season',\n",
    "]\n",
    "\n",
    "dtype = {col: 'object' for col in columns[-2:]}\n",
    "dtype['EPA_Rain_Zone'] = 'Int64'"
   ]
  },
  {
   "cell_type": "markdown",
   "id": "72b3342c-9868-47aa-bd40-f579b93596c3",
   "metadata": {},
   "source": [
    "## Carregamento do dataset\n",
    "\n",
    "O código a seguir carrega o dataset conforme o tipo de dado atribuído a cada coluna:\n",
    "\n",
    "- `object` para armazenamento de textos na categoria \"Season\"\n",
    "- `Int64` para armazenamento de número inteiro na categoria \"EPA Rain Zone\"\n",
    "- `float64` para armazenamento de números reais em todas as demais categorias.\n",
    "\n",
    "Valores os quais não se conformam a estas especificações são descartados."
   ]
  },
  {
   "cell_type": "code",
   "execution_count": 4,
   "id": "5d3174d7-824a-4f05-bb3f-410fd3d01d0c",
   "metadata": {},
   "outputs": [],
   "source": [
    "def float_or_nan(value: Any) -> float | type(np.nan):\n",
    "    try:\n",
    "        return float(value)\n",
    "    except ValueError:\n",
    "        return np.nan\n",
    "\n",
    "df = pd.read_csv(\n",
    "    **dataset,\n",
    "    usecols=columns,\n",
    "    dtype=dtype,\n",
    "    na_values=[''],\n",
    "    converters={col: float_or_nan for col in columns[:-3]},\n",
    "    nrows=9051\n",
    ")"
   ]
  },
  {
   "cell_type": "markdown",
   "id": "3e77995a-22bb-4eb1-ae59-0918ef5453b3",
   "metadata": {},
   "source": [
    "Abaixo, filtramos do dataset todas as linhas as quais contém valores nulos para qualquer um dos fatores da nossa análise e renomeamos as colunas conforme nossa conveniência. Após esta operação, resta que filtramos a boa parte das observações: apenas 536 linhas possuem a todas as informações que buscamos. "
   ]
  },
  {
   "cell_type": "code",
   "execution_count": 5,
   "id": "d3224362-29fd-44be-96c7-9653d57bec95",
   "metadata": {},
   "outputs": [
    {
     "name": "stdout",
     "output_type": "stream",
     "text": [
      "\n",
      "Observations for each rain zone and season combination:\n",
      "    EPA rain zone Season  Count\n",
      "0               2     FA     32\n",
      "1               2     SP     32\n",
      "2               2     SU     40\n",
      "3               2     WI     55\n",
      "4               3     FA      6\n",
      "5               3     SP      6\n",
      "6               3     SU      5\n",
      "7               3     WI      8\n",
      "8               5     FA     46\n",
      "9               5     SP     72\n",
      "10              5     SU      9\n",
      "11              5     WI     46\n",
      "12              6     FA     24\n",
      "13              6     SP     36\n",
      "14              6     SU     21\n",
      "15              6     WI     63\n",
      "16              9     FA      4\n",
      "17              9     SP      2\n",
      "18              9     SU     28\n",
      "19              9     WI      1\n",
      "<class 'pandas.core.frame.DataFrame'>\n",
      "Index: 536 entries, 219 to 8436\n",
      "Data columns (total 10 columns):\n",
      " #   Column                    Non-Null Count  Dtype  \n",
      "---  ------                    --------------  -----  \n",
      " 0   EPA rain zone             536 non-null    Int64  \n",
      " 1   Drainage area (Acres)     536 non-null    float64\n",
      " 2   Imperviousness (%)        536 non-null    float64\n",
      " 3   Main conveyance           406 non-null    object \n",
      " 4   Days since last rain      536 non-null    float64\n",
      " 5   Precipitation depth (in)  536 non-null    float64\n",
      " 6   Runoff depth (in)         536 non-null    float64\n",
      " 7   Curve number              536 non-null    float64\n",
      " 8   Season                    536 non-null    object \n",
      " 9   TSS (mg/L)                536 non-null    float64\n",
      "dtypes: Int64(1), float64(7), object(2)\n",
      "memory usage: 46.6+ KB\n"
     ]
    }
   ],
   "source": [
    "df.dropna(\n",
    "    subset=[\n",
    "        'Drainage_Area_Acres',\n",
    "        'Percent_Impervious',\n",
    "        'Days since last rain',\n",
    "        'Precipitation_Depth_(in)',\n",
    "        'Runoff_(in)',\n",
    "        'Calculated_Curve_Number',\n",
    "        'TSS (mg/L)',\n",
    "    ],\n",
    "    inplace=True\n",
    ")\n",
    "\n",
    "df.rename(\n",
    "    columns={\n",
    "        'Precipitation_Depth_(in)': 'Precipitation depth (in)',\n",
    "        'Runoff_(in)': 'Runoff depth (in)',\n",
    "        'Drainage_Area_Acres': 'Drainage area (Acres)',\n",
    "        'Percent_Impervious': 'Imperviousness (%)',\n",
    "        'Calculated_Curve_Number': 'Curve number',\n",
    "        'Percentage_Freeway': 'Freeway (%)',\n",
    "        'Percentage_Water': 'Water (%)',\n",
    "        'EPA_Rain_Zone': 'EPA rain zone',\n",
    "        'Main_Type_Conveyance': 'Main conveyance',\n",
    "    },\n",
    "    inplace=True\n",
    ")\n",
    "\n",
    "df = df.loc[(df['Curve number'] >= 30.0) & (df['Curve number'] <= 100.0)]\n",
    "\n",
    "print(\"\\nObservations for each rain zone and season combination:\")\n",
    "print(df.groupby(['EPA rain zone', 'Season']).size().reset_index(name='Count'))\n",
    "\n",
    "df.info()"
   ]
  },
  {
   "cell_type": "markdown",
   "id": "9f363fe4-d56a-4949-9266-158c5fd7e0a8",
   "metadata": {},
   "source": [
    "Em seguida avaliamos a diversidade de valores tidos em cada categoria, temos que `Water (%)` possui um único valor, e `Institutinal (%)` é composto predominantemente por zeros, com poucos casos onde o valor é ligeiramente maior que isto."
   ]
  },
  {
   "cell_type": "code",
   "execution_count": 6,
   "id": "99fc7296-09ab-45d7-bb20-bfc2bafb1613",
   "metadata": {},
   "outputs": [
    {
     "name": "stdout",
     "output_type": "stream",
     "text": [
      "<class 'pandas.core.frame.DataFrame'>\n",
      "Index: 533 entries, 219 to 8436\n",
      "Data columns (total 10 columns):\n",
      " #   Column                    Non-Null Count  Dtype  \n",
      "---  ------                    --------------  -----  \n",
      " 0   EPA rain zone             533 non-null    Int64  \n",
      " 1   Drainage area (Acres)     533 non-null    float64\n",
      " 2   Imperviousness (%)        533 non-null    float64\n",
      " 3   Main conveyance           403 non-null    object \n",
      " 4   Days since last rain      533 non-null    float64\n",
      " 5   Precipitation depth (in)  533 non-null    float64\n",
      " 6   Runoff depth (in)         533 non-null    float64\n",
      " 7   Curve number              533 non-null    float64\n",
      " 8   Season                    533 non-null    object \n",
      " 9   TSS (mg/L)                533 non-null    float64\n",
      "dtypes: Int64(1), float64(7), object(2)\n",
      "memory usage: 46.3+ KB\n"
     ]
    }
   ],
   "source": [
    "mask = ~((df['EPA rain zone'] == 9) & (df['Season'].isin(['SP', 'WI'])))\n",
    "df = df[mask]\n",
    "\n",
    "df.info()"
   ]
  },
  {
   "cell_type": "markdown",
   "id": "9b7ae3f3-fc8e-4d4f-b407-497c8c1f2873",
   "metadata": {},
   "source": [
    "## Conversão de unidades\n",
    "\n",
    "Convertemos as unidades do sistema de medidas imperial para o sistema de medidas internacional, criamos uma coluna que descreve o volume do escoamento."
   ]
  },
  {
   "cell_type": "code",
   "execution_count": 7,
   "id": "c009cd24-5921-4215-8ea5-6f939c25473a",
   "metadata": {},
   "outputs": [],
   "source": [
    "INCH_TO_MM = 25.4\n",
    "ACRE_TO_M2 = 4046.86\n",
    "\n",
    "df['Drainage area (km²)'] = (\n",
    "    df['Drainage area (Acres)'] * ACRE_TO_M2 * 10**3\n",
    ")\n",
    "df['Precipitation depth (mm)'] = (\n",
    "    df['Precipitation depth (in)'] * INCH_TO_MM\n",
    ")\n",
    "df['Runoff volume (m³)'] = (\n",
    "    df['Runoff depth (in)'] * INCH_TO_MM * 10**3\n",
    "    * df['Drainage area (Acres)'] * ACRE_TO_M2\n",
    ")"
   ]
  },
  {
   "cell_type": "markdown",
   "id": "b79078db-5f07-42db-9bd8-a707a242728a",
   "metadata": {},
   "source": [
    "## Filtragem dos dados\n",
    "\n",
    "Tido que possuimos um número de amostras 3 unidades superior ao descrito no artigo, aproveitamos para descartar alguns valores aberrantes. Primeiramente descartamos as colunas com fatores insignificantes."
   ]
  },
  {
   "cell_type": "code",
   "execution_count": 8,
   "id": "3c9a6d2c-5549-4faa-be70-49a4463eca1e",
   "metadata": {},
   "outputs": [],
   "source": [
    "df.drop(\n",
    "    columns=[\n",
    "        'Drainage area (Acres)',\n",
    "        'Precipitation depth (in)',\n",
    "        'Runoff depth (in)',\n",
    "    ],\n",
    "    inplace=True\n",
    ")\n",
    "\n",
    "df.drop(df['TSS (mg/L)'].nlargest(3).index, inplace=True)"
   ]
  },
  {
   "cell_type": "markdown",
   "id": "64780413-6efc-4ed5-8d50-480a5346f061",
   "metadata": {},
   "source": [
    "## Regressão linear múltipla\n",
    "\n",
    "Em seguida buscamos correlacionar o TSS a variação de todos os parâmetros tidos em conjunto, em uma regressão linear múltipla. Treinamos o modelo em 2 terços das observações e o validamos na predição do terço das observações restantes, como proposto pelos autores. A amostragem dos conjuntos de treino e teste é feita de forma aleatória mas estratificada, para que estes possuam uma divisão proporcional das observações tidas em cada combinaçao de zona de chuva e estação do ano. Repetimos a esta amostragem 10 vezes para atestar o desvio padrão provocado pela mudança da amostragem."
   ]
  },
  {
   "cell_type": "code",
   "execution_count": 9,
   "id": "75c50032-4721-49df-804d-e178b4e6684e",
   "metadata": {},
   "outputs": [
    {
     "name": "stdout",
     "output_type": "stream",
     "text": [
      "\n",
      "--- TRAIN SET METRICS (averaged across folds) ---\n",
      "R²: 0.0915 ± 0.0172\n",
      "RMSE: 11.1558 ± 0.5200 (mg/L)\n",
      "NSE: 0.0915 ± 0.0172\n",
      "\n",
      "--- TEST SET METRICS (averaged across folds) ---\n",
      "R²: 0.0568 ± 0.0414\n",
      "RMSE: 15.9987 ± 1.4397  (mg/L)\n",
      "NSE: 0.0568 ± 0.0414\n"
     ]
    }
   ],
   "source": [
    "def multiple_regression(x: pd.DataFrame, y: pd.Series) -> RegressionResults:\n",
    "    model = sm.OLS(y, sm.add_constant(x, prepend=True))\n",
    "    return model.fit()\n",
    "\n",
    "def NSE(\n",
    "    y_actual: list[float],\n",
    "    y_predicted: list[float],\n",
    ") -> float:\n",
    "    \"\"\"Calculates the Nash-Sutcliffe Efficiency.\"\"\"\n",
    "    numerator = np.sum((y_actual - y_predicted) ** 2)\n",
    "    denominador = np.sum((np.mean(y_actual) - y_actual) ** 2)\n",
    "    return 1 - (numerator / denominador)\n",
    "\n",
    "parameters = [\n",
    "    'Precipitation depth (mm)',\n",
    "    'Runoff volume (m³)',\n",
    "    'Drainage area (km²)',\n",
    "    'Imperviousness (%)',\n",
    "    'Curve number',\n",
    "    'Days since last rain',\n",
    "]\n",
    "\n",
    "target = 'TSS (mg/L)'\n",
    "\n",
    "X = df[parameters]\n",
    "y = df[target]\n",
    "stratification = df['Stratification Group'] = (\n",
    "    df['EPA rain zone'].astype(str) + '_' + df['Season'].astype(str)\n",
    ")\n",
    "kf = RSKF(n_splits=3, random_state=42)\n",
    "\n",
    "metrics = []\n",
    "labels = [\n",
    "    'R2_train',\n",
    "    'R2_test',\n",
    "    'RMSE_train',\n",
    "    'RMSE_test',\n",
    "    'NSE_train',\n",
    "    'NSE_test',\n",
    "]\n",
    "predictions = {}\n",
    "\n",
    "for i, (train_index, test_index) in enumerate(kf.split(X, stratification)):\n",
    "    X_train, X_test = X.iloc[train_index], X.iloc[test_index]\n",
    "    y_train, y_test = y.iloc[train_index], y.iloc[test_index]\n",
    "\n",
    "    multi = multiple_regression(X_train, y_train)\n",
    "    y_train_predicted = multi.predict()\n",
    "    y_test_predicted = multi.predict(sm.add_constant(X_test, prepend=True))\n",
    "\n",
    "    # Store predictions aggregated by its observation ID\n",
    "    for idx, prediction in zip(test_index, y_test_predicted):\n",
    "        if idx not in predictions:\n",
    "            predictions[idx] = []\n",
    "        predictions[idx].append(prediction)\n",
    "\n",
    "    # Store fitness metrics\n",
    "    metrics.append(\n",
    "        {\n",
    "            'R2_train': r2_score(y_train, y_train_predicted),\n",
    "            'R2_test': r2_score(y_test, y_test_predicted),\n",
    "            'RMSE_train': np.sqrt(MSE(y_train, y_train_predicted) / len(y_train)),\n",
    "            'RMSE_test': np.sqrt(MSE(y_test, y_test_predicted) / len(y_test)),\n",
    "            'NSE_train': NSE(y_train, y_train_predicted),\n",
    "            'NSE_test': NSE(y_test, y_test_predicted),\n",
    "        }\n",
    "    )\n",
    "\n",
    "metrics_df = pd.DataFrame(metrics)\n",
    "summary = metrics_df[labels].mean().to_frame().T\n",
    "std_dev = metrics_df[labels].std().to_frame().T\n",
    "\n",
    "# Print summary results for the train set\n",
    "print(\"\\n--- TRAIN SET METRICS (averaged across folds) ---\")\n",
    "print(f\"R²: {summary['R2_train'].iloc[0]:.4f} ± {std_dev['R2_train'].iloc[0]:.4f}\")\n",
    "print(f\"RMSE: {summary['RMSE_train'].iloc[0]:.4f} ± {std_dev['RMSE_train'].iloc[0]:.4f} (mg/L)\")\n",
    "print(f\"NSE: {summary['NSE_train'].iloc[0]:.4f} ± {std_dev['NSE_train'].iloc[0]:.4f}\")\n",
    "\n",
    "# Print summary results for the test set\n",
    "print(\"\\n--- TEST SET METRICS (averaged across folds) ---\")\n",
    "print(f\"R²: {summary['R2_test'].iloc[0]:.4f} ± {std_dev['R2_test'].iloc[0]:.4f}\")\n",
    "print(f\"RMSE: {summary['RMSE_test'].iloc[0]:.4f} ± {std_dev['RMSE_test'].iloc[0]:.4f}  (mg/L)\")\n",
    "print(f\"NSE: {summary['NSE_test'].iloc[0]:.4f} ± {std_dev['NSE_test'].iloc[0]:.4f}\")"
   ]
  },
  {
   "cell_type": "markdown",
   "id": "4624b4da-5094-416b-a825-8d0a0c6969c7",
   "metadata": {},
   "source": [
    "Em seguida desenhamos o gráfico de disperção do valor médio predito (nas 10 amostragens diferentes) e o valor real das observações. Temos um resultado bastante próximo àquele tido no artigo, ainda que com ligeira piora nas métricas de desempenho R², RMSE e NSE (que já não eram boas). Semelhante ao artigo original, nosso modelo consistentemente subestima o valor real do TSS."
   ]
  },
  {
   "cell_type": "code",
   "execution_count": 10,
   "id": "e03a02a9-96ad-4873-b5d4-90206f0a8812",
   "metadata": {},
   "outputs": [
    {
     "data": {
      "image/png": "[encoded data removed]",
      "text/plain": [
       "<Figure size 800x600 with 1 Axes>"
      ]
     },
     "metadata": {},
     "output_type": "display_data"
    }
   ],
   "source": [
    "# Calculate the averaged predictions and collect the target values\n",
    "averaged_predictions = []\n",
    "actual_values = []\n",
    "\n",
    "for idx, preds in predictions.items():\n",
    "    averaged_predictions.append(np.mean(preds))\n",
    "    actual_values.append(df.iloc[idx][target])\n",
    "\n",
    "# Create the scatter plot\n",
    "plt.figure(figsize=(8, 6))\n",
    "plt.scatter(actual_values, averaged_predictions, alpha=0.6)\n",
    "\n",
    "# Add the 1:1 line for reference\n",
    "max_val = max(max(actual_values), max(averaged_predictions))\n",
    "plt.plot([0, max_val], [0, max_val], 'k--', linewidth=1, label='1:1 Line')\n",
    "\n",
    "# Add the regression line for the aggregated results\n",
    "z = np.polyfit(actual_values, averaged_predictions, 1)\n",
    "p = np.poly1d(z)\n",
    "x_for_line = np.linspace(0, max_val, 100)\n",
    "plt.plot(x_for_line, p(x_for_line), \"r-\", label=f'Agreggated Regression Line')\n",
    "\n",
    "# Set plot labels and title\n",
    "plt.xlim(0, max_val)\n",
    "plt.ylim(0, max_val)\n",
    "plt.xlabel(\"Actual Values\")\n",
    "plt.ylabel(\"Predicted Values\")\n",
    "plt.title(\"Multiple Regression: Predicted vs. Actual (Aggregated)\")\n",
    "plt.legend()\n",
    "plt.grid(True)\n",
    "plt.show()"
   ]
  }
 ],
 "metadata": {
  "kernelspec": {
   "display_name": "python_ISLP",
   "language": "python",
   "name": "python_islp"
  },
  "language_info": {
   "codemirror_mode": {
    "name": "ipython",
    "version": 3
   },
   "file_extension": ".py",
   "mimetype": "text/x-python",
   "name": "python",
   "nbconvert_exporter": "python",
   "pygments_lexer": "ipython3",
   "version": "3.12.10"
  }
 },
 "nbformat": 4,
 "nbformat_minor": 5
}
